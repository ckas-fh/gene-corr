{
 "cells": [
  {
   "cell_type": "code",
   "execution_count": 40,
   "metadata": {},
   "outputs": [
    {
     "data": {
      "text/plain": [
       "256"
      ]
     },
     "execution_count": 40,
     "metadata": {},
     "output_type": "execute_result"
    }
   ],
   "source": [
    "\"\"\"\n",
    "Created on Fri Mar 29 14:37:05 2019\n",
    "\n",
    "@author: ckasman\n",
    "\"\"\"\n",
    "import os\n",
    "\n",
    "### Edit the Fred Hutch username based on who's currently running the script\n",
    "fred_hutch_username = 'ckasman'\n",
    "\n",
    "### This is the server name; shouldn't have to be changed. \n",
    "server_name = 'rhino3'\n",
    "\n",
    "### This is just one ftp address copied from our big .csv file. \n",
    "### The final program will loop through a list of all items in the 'Download URL' column - i.e. all ftp addresses\n",
    "example_link = 'ftp.sra.ebi.ac.uk/vol1/fastq/ERR688/ERR688364/ERR688364.fastq.gz'\n",
    "\n",
    "### This is what the file will be named when it is downloaded. Totally customizable.\n",
    "file_name = 'ERR688364.fastq.gz'\n",
    "\n",
    "### This defines where to save the file you're downloading. For now, the filepath leads to scratch/DML/Downloading_Feng_Data/ on rhino.\n",
    "### The final value of where_to_save_downloaded_file is dlachanc@rhino3:~$scratch/DML/Downloading_Feng_Data/ERR688364.fastq.gz in this case\n",
    "where_to_save_downloaded_file = fred_hutch_username + '@' + server_name + '~$scratch/CK/' + file_name\n",
    "\n",
    "### os.system sends a command to the terminal. Here, it sends a 'wget' command, which will be used to download file \n",
    "### associated with the ftp address (example_link)\n",
    "os.system('wget -c ' + example_link + ' -O ' + where_to_save_downloaded_file)\n",
    "\n",
    "\n"
   ]
  },
  {
   "cell_type": "code",
   "execution_count": null,
   "metadata": {},
   "outputs": [],
   "source": [
    "\n"
   ]
  }
 ],
 "metadata": {
  "kernelspec": {
   "display_name": "Python 3",
   "language": "python",
   "name": "python3"
  },
  "language_info": {
   "codemirror_mode": {
    "name": "ipython",
    "version": 3
   },
   "file_extension": ".py",
   "mimetype": "text/x-python",
   "name": "python",
   "nbconvert_exporter": "python",
   "pygments_lexer": "ipython3",
   "version": "3.7.0"
  }
 },
 "nbformat": 4,
 "nbformat_minor": 2
}
