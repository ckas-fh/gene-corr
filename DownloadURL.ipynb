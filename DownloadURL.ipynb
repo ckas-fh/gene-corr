{
 "cells": [
  {
   "cell_type": "code",
   "execution_count": null,
   "metadata": {},
   "outputs": [],
   "source": [
    "#!/usr/bin/env python3\n",
    "# -*- coding: utf-8 -*-\n",
    "\"\"\"\n",
    "Created on Fri Mar 22 13:56:05 2019\n",
    "\n",
    "@author: dlachanc\n",
    "\"\"\"\n",
    "\n",
    "import pandas as pd\n",
    "\n",
    "### Make a dataframe from the metadata downloaded from ENA (https://www.ebi.ac.uk/ena/data/view/PRJEB7774; clicking on 'TEXT' to download a .tsv with all metadata information - the same file you looped through to find accession and sample ID numbers\n",
    "# pd.read_csv reads delimited files. The name is misleading; it does not just read .csv files. You are able to specify what the delimiter is using the delimter='' parameter.\n",
    "\n",
    "meta_data = pd.read_csv('/Users/dlachanc/Downloads/PRJEB7774.txt', delimiter='\\t')\n",
    "\n",
    "### Make a dataframe containing only entries where 'library_layout' is 'SINGLE'. \n",
    "#I think we touched on this briefly last week - each sample has a single-end and a paired-end sequencing result file. We're just going to be working with the single-end results, so I used this line to filter for metadata entries from only single-end results.\n",
    "\n",
    "new_df = (meta_data.loc[meta_data['library_layout'] == 'SINGLE'])\n",
    "\n",
    "### Write all fastq_ftp addresses from the metadata to a csv file. \n",
    "#These are the links we'll use to download sequencing data. Looping through these links, we'll be able to download everything from the study.\n",
    "#https://www.techwalla.com/articles/how-to-find-an-ftp-address this talks about how FTP addresses work. In essence, they're web addresses made for transferring files. Simmilar to HTTP addresses, which just show webpages.\n",
    "\n",
    "new_df['fastq_ftp'].to_csv('fastq_ftp_addresses.csv', index=False)\n",
    "\n",
    "### Write all secondary_sample_accession numbers to a csv\n",
    "#These are the secondary sample accessions that you parsed earlier last week. \n",
    "new_df['secondary_sample_accession'].to_csv('secondarysample.csv', index=False)\n",
    "\n",
    "### Now that I have all fastq_ftp address and secondary accession numbers in csv files, I combined them into one csv file (not sure how to do that with pandas...), sorted them, and pasted them into the large joined_Table file that you made!"
   ]
  }
 ],
 "metadata": {
  "kernelspec": {
   "display_name": "Python 3",
   "language": "python",
   "name": "python3"
  },
  "language_info": {
   "codemirror_mode": {
    "name": "ipython",
    "version": 3
   },
   "file_extension": ".py",
   "mimetype": "text/x-python",
   "name": "python",
   "nbconvert_exporter": "python",
   "pygments_lexer": "ipython3",
   "version": "3.7.0"
  }
 },
 "nbformat": 4,
 "nbformat_minor": 2
}
