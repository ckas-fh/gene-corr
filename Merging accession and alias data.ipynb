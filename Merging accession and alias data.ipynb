{
 "cells": [
  {
   "cell_type": "code",
   "execution_count": 21,
   "metadata": {},
   "outputs": [],
   "source": [
    "#1. packages\n",
    "import pandas as pd\n",
    "\n",
    "#2. loading data\n",
    "accession_ID=pd.read_csv(\"output.csv\")\n",
    "feng_metadata=pd.read_csv(\"feng.csv\")\n",
    "\n",
    "#3. seeing column names\n",
    "#print(accession_ID.columns.values)\n",
    "#print(feng_metadata.columns.values)\n",
    "\n",
    "#4. changing labels on accession_ID and removing comma in front of url\n",
    "accession_ID = accession_ID.rename(columns={'ID': 'Sample ID'})\n",
    "accession_ID['link']=accession_ID['link'].map(lambda x: str(x)[1:])\n",
    "#print(accession_ID.head(10))\n",
    "#print(accession_ID.columns.values)\n",
    "\n",
    "#5. merging tables\n",
    "joinedTable = pd.merge(feng_metadata, accession_ID, left_on='Sample ID', right_on='Sample ID')\n",
    "#print(joinedTable.head(10))\n",
    "\n",
    "#6. removing unnamed column\n",
    "joinedTable=joinedTable.drop(joinedTable.columns[joinedTable.columns.str.contains('unnamed',case = False)],axis = 1)\n",
    "#print(joinedTable.head(10))\n",
    "\n",
    "joinedTable.to_csv(\"joined_Table.csv\", index=False)\n"
   ]
  },
  {
   "cell_type": "code",
   "execution_count": null,
   "metadata": {},
   "outputs": [],
   "source": [
    "\n",
    "\n"
   ]
  },
  {
   "cell_type": "code",
   "execution_count": null,
   "metadata": {},
   "outputs": [],
   "source": []
  }
 ],
 "metadata": {
  "kernelspec": {
   "display_name": "Python 3",
   "language": "python",
   "name": "python3"
  },
  "language_info": {
   "codemirror_mode": {
    "name": "ipython",
    "version": 3
   },
   "file_extension": ".py",
   "mimetype": "text/x-python",
   "name": "python",
   "nbconvert_exporter": "python",
   "pygments_lexer": "ipython3",
   "version": "3.7.0"
  }
 },
 "nbformat": 4,
 "nbformat_minor": 2
}
