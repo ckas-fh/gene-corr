{
 "cells": [
  {
   "cell_type": "code",
   "execution_count": null,
   "metadata": {},
   "outputs": [
    {
     "name": "stdout",
     "output_type": "stream",
     "text": [
      "                      0        1        2        3        4        5      \\\n",
      "Gene                COG0001  COG0002  COG0003  COG0004  COG0005  COG0006   \n",
      "CCIS00146684ST-4-0   5.6528  7.34746  3.61449  7.32097  7.07062  8.12517   \n",
      "CCIS00281083ST-3-0    4.912  8.18763  4.95312  7.57908  8.51916  9.01301   \n",
      "CCIS02124300ST-4-0   6.5864  7.80758  3.97596  7.94227   7.5609  8.39278   \n",
      "CCIS02379307ST-4-0  5.43479  7.82254  5.20235  7.43727  7.57703  8.82357   \n",
      "CCIS02856720ST-4-0  5.39412  7.15292  4.29855  7.01864  6.91129    7.907   \n",
      "CCIS03473770ST-4-0  4.97529  6.86193  4.00367  6.88277  6.53489  7.54716   \n",
      "CCIS03857607ST-4-0  6.85477  7.97597  3.22926  7.90226  7.74263  8.67166   \n",
      "CCIS05314658ST-4-0  4.90855  7.08019  4.59632  7.04861  6.67732  7.81147   \n",
      "CCIS06260551ST-3-0  6.15089  6.83121  5.31782  6.22749  6.69306  7.80699   \n",
      "\n",
      "                       6        7        8        9         ...       \\\n",
      "Gene                 COG0007  COG0008  COG0009  COG0010     ...        \n",
      "CCIS00146684ST-4-0  0.618757  8.48244  6.47747  6.58952     ...        \n",
      "CCIS00281083ST-3-0  0.818387  9.03984  8.08609  6.13406     ...        \n",
      "CCIS02124300ST-4-0   4.67125  8.77377   6.7437  6.60825     ...        \n",
      "CCIS02379307ST-4-0   1.92328  8.60042   7.5683  6.84668     ...        \n",
      "CCIS02856720ST-4-0   3.24612  7.99872  6.55461  5.90434     ...        \n",
      "CCIS03473770ST-4-0   3.28073  7.81947  6.21406  6.00936     ...        \n",
      "CCIS03857607ST-4-0   6.51048  8.97317  7.15638  6.20432     ...        \n",
      "CCIS05314658ST-4-0   2.04862  8.07517  6.39221  5.82302     ...        \n",
      "CCIS06260551ST-3-0   5.10651  7.86026  6.89373  6.82311     ...        \n",
      "\n",
      "                          31175        31176        31177        31178  \\\n",
      "Gene                ENOG4112DEN  ENOG4112DET  ENOG4112DEY  ENOG4112DF3   \n",
      "CCIS00146684ST-4-0      3.45486      4.42603      3.35021      5.39894   \n",
      "CCIS00281083ST-3-0      5.11151      4.10698      2.81785      4.63641   \n",
      "CCIS02124300ST-4-0      2.90067      4.75933      2.66805      3.99087   \n",
      "CCIS02379307ST-4-0      6.08248      5.17391      3.21054      5.51995   \n",
      "CCIS02856720ST-4-0        3.463       3.5889      1.04263      3.55697   \n",
      "CCIS03473770ST-4-0      3.04043      3.77938       1.9585      4.03082   \n",
      "CCIS03857607ST-4-0      4.56918      4.12308      1.05801      4.60527   \n",
      "CCIS05314658ST-4-0      3.79988      3.71662      3.38612      3.03242   \n",
      "CCIS06260551ST-3-0      2.01093      2.72388   -0.0526379      3.98501   \n",
      "\n",
      "                          31179        31180        31181        31182  \\\n",
      "Gene                ENOG4112DFB  ENOG4112DFF  ENOG4112DFK  ENOG4112DFN   \n",
      "CCIS00146684ST-4-0      2.79945      6.12369      3.60626      3.20079   \n",
      "CCIS00281083ST-3-0      4.08637      5.79866      1.20842      2.66789   \n",
      "CCIS02124300ST-4-0      3.08404      5.65981    0.0433355      1.64065   \n",
      "CCIS02379307ST-4-0      3.96994      5.82282      1.92328      2.59891   \n",
      "CCIS02856720ST-4-0         2.86      4.75136    -0.155075      2.63302   \n",
      "CCIS03473770ST-4-0       2.1688      5.33335    -0.116695      3.47589   \n",
      "CCIS03857607ST-4-0      1.93134      4.64153       1.8371      4.27792   \n",
      "CCIS05314658ST-4-0      2.54021      4.41276     -7.64773      2.53045   \n",
      "CCIS06260551ST-3-0      2.44271      5.41877      3.85623      2.68896   \n",
      "\n",
      "                          31183        31184  \n",
      "Gene                ENOG4112DFP  ENOG4112DFT  \n",
      "CCIS00146684ST-4-0     -7.14821     -7.14821  \n",
      "CCIS00281083ST-3-0     -6.25434     -6.25434  \n",
      "CCIS02124300ST-4-0     -7.02829     -7.02829  \n",
      "CCIS02379307ST-4-0     -6.63313     -6.63313  \n",
      "CCIS02856720ST-4-0     -7.56458      2.02287  \n",
      "CCIS03473770ST-4-0     -7.85032     -7.85032  \n",
      "CCIS03857607ST-4-0     -6.77246     -6.77246  \n",
      "CCIS05314658ST-4-0     -7.64773     -7.64773  \n",
      "CCIS06260551ST-3-0      -7.4543     0.679124  \n",
      "\n",
      "[10 rows x 31185 columns]\n"
     ]
    }
   ],
   "source": [
    "import pandas as pd\n",
    "import numpy as np\n",
    "import scipy.stats\n",
    "import matplotlib.pyplot as plt\n",
    "import csv\n",
    "\n",
    "### Once the data is log-transformed, this is where you will read in the gene abundance data file (saved as a csv)\n",
    "df = pd.read_csv('transformed_data.tsv', sep='\\t')\n",
    "\n",
    "#This transposes the data, switching the columns and the rows\n",
    "df = df.T\n",
    "print(df[0:10])\n",
    "df.to_csv('log_transformed_transposed.csv')"
   ]
  },
  {
   "cell_type": "code",
   "execution_count": null,
   "metadata": {},
   "outputs": [],
   "source": []
  }
 ],
 "metadata": {
  "kernelspec": {
   "display_name": "Python 3",
   "language": "python",
   "name": "python3"
  },
  "language_info": {
   "codemirror_mode": {
    "name": "ipython",
    "version": 3
   },
   "file_extension": ".py",
   "mimetype": "text/x-python",
   "name": "python",
   "nbconvert_exporter": "python",
   "pygments_lexer": "ipython3",
   "version": "3.7.0"
  }
 },
 "nbformat": 4,
 "nbformat_minor": 2
}
